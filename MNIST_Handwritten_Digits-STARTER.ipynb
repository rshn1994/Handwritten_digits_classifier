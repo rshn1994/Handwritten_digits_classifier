{
 "cells": [
  {
   "cell_type": "markdown",
   "metadata": {},
   "source": [
    "# Introduction\n",
    "\n",
    "In this project, you will build a neural network of your own design to evaluate the MNIST dataset.\n",
    "\n",
    "Some of the benchmark results on MNIST include can be found [on Yann LeCun's page](https://webcache.googleusercontent.com/search?q=cache:stAVPik6onEJ:yann.lecun.com/exdb/mnist) and include:\n",
    "\n",
    "88% [Lecun et al., 1998](https://hal.science/hal-03926082/document)\n",
    "\n",
    "95.3% [Lecun et al., 1998](https://hal.science/hal-03926082v1/document)\n",
    "\n",
    "99.65% [Ciresan et al., 2011](http://people.idsia.ch/~juergen/ijcai2011.pdf)\n",
    "\n",
    "\n",
    "MNIST is a great dataset for sanity checking your models, since the accuracy levels achieved by large convolutional neural networks and small linear models are both quite high. This makes it important to be familiar with the data.\n",
    "\n",
    "## Installation"
   ]
  },
  {
   "cell_type": "code",
   "execution_count": 5,
   "metadata": {},
   "outputs": [
    {
     "data": {
      "text/html": [
       "<script>Jupyter.notebook.kernel.restart()</script>"
      ],
      "text/plain": [
       "<IPython.core.display.HTML object>"
      ]
     },
     "execution_count": 5,
     "metadata": {},
     "output_type": "execute_result"
    }
   ],
   "source": [
    "# Update the PATH to include the user installation directory. \n",
    "import os\n",
    "os.environ['PATH'] = f\"{os.environ['PATH']}:/root/.local/bin\"\n",
    "\n",
    "# Restart the Kernel before you move on to the next step.\n",
    "from IPython.core.display import HTML\n",
    "HTML(\"<script>Jupyter.notebook.kernel.restart()</script>\")"
   ]
  },
  {
   "cell_type": "markdown",
   "metadata": {},
   "source": [
    "#### Important: Restart the Kernel before you move on to the next step."
   ]
  },
  {
   "cell_type": "code",
   "execution_count": 6,
   "metadata": {},
   "outputs": [
    {
     "name": "stdout",
     "output_type": "stream",
     "text": [
      "Requirement already satisfied: opencv-python-headless in /home/roshan/anaconda3/envs/py311/lib/python3.11/site-packages (from -r requirements.txt (line 1)) (4.9.0.80)\n",
      "Requirement already satisfied: matplotlib in /home/roshan/anaconda3/envs/py311/lib/python3.11/site-packages (from -r requirements.txt (line 2)) (3.9.0)\n",
      "Requirement already satisfied: numpy in /home/roshan/anaconda3/envs/py311/lib/python3.11/site-packages (from -r requirements.txt (line 3)) (1.26.4)\n",
      "Requirement already satisfied: pillow in /home/roshan/anaconda3/envs/py311/lib/python3.11/site-packages (from -r requirements.txt (line 4)) (10.3.0)\n",
      "Requirement already satisfied: bokeh in /home/roshan/anaconda3/envs/py311/lib/python3.11/site-packages (from -r requirements.txt (line 5)) (3.4.1)\n",
      "Requirement already satisfied: torch in /home/roshan/anaconda3/envs/py311/lib/python3.11/site-packages (from -r requirements.txt (line 6)) (2.3.0)\n",
      "Requirement already satisfied: torchvision in /home/roshan/anaconda3/envs/py311/lib/python3.11/site-packages (from -r requirements.txt (line 7)) (0.18.0)\n",
      "Requirement already satisfied: tqdm in /home/roshan/anaconda3/envs/py311/lib/python3.11/site-packages (from -r requirements.txt (line 8)) (4.66.4)\n",
      "Requirement already satisfied: ipywidgets in /home/roshan/anaconda3/envs/py311/lib/python3.11/site-packages (from -r requirements.txt (line 9)) (8.1.2)\n",
      "Requirement already satisfied: livelossplot in /home/roshan/anaconda3/envs/py311/lib/python3.11/site-packages (from -r requirements.txt (line 10)) (0.5.5)\n",
      "Requirement already satisfied: pytest in /home/roshan/anaconda3/envs/py311/lib/python3.11/site-packages (from -r requirements.txt (line 11)) (8.2.1)\n",
      "Requirement already satisfied: pandas in /home/roshan/anaconda3/envs/py311/lib/python3.11/site-packages (from -r requirements.txt (line 12)) (2.2.2)\n",
      "Requirement already satisfied: seaborn in /home/roshan/anaconda3/envs/py311/lib/python3.11/site-packages (from -r requirements.txt (line 13)) (0.13.2)\n",
      "Requirement already satisfied: jupyter in /home/roshan/anaconda3/envs/py311/lib/python3.11/site-packages (from -r requirements.txt (line 14)) (1.0.0)\n",
      "Requirement already satisfied: ipykernel in /home/roshan/anaconda3/envs/py311/lib/python3.11/site-packages (from -r requirements.txt (line 15)) (6.29.3)\n",
      "Requirement already satisfied: contourpy>=1.0.1 in /home/roshan/anaconda3/envs/py311/lib/python3.11/site-packages (from matplotlib->-r requirements.txt (line 2)) (1.2.1)\n",
      "Requirement already satisfied: cycler>=0.10 in /home/roshan/anaconda3/envs/py311/lib/python3.11/site-packages (from matplotlib->-r requirements.txt (line 2)) (0.12.1)\n",
      "Requirement already satisfied: fonttools>=4.22.0 in /home/roshan/anaconda3/envs/py311/lib/python3.11/site-packages (from matplotlib->-r requirements.txt (line 2)) (4.51.0)\n",
      "Requirement already satisfied: kiwisolver>=1.3.1 in /home/roshan/anaconda3/envs/py311/lib/python3.11/site-packages (from matplotlib->-r requirements.txt (line 2)) (1.4.5)\n",
      "Requirement already satisfied: packaging>=20.0 in /home/roshan/anaconda3/envs/py311/lib/python3.11/site-packages (from matplotlib->-r requirements.txt (line 2)) (24.0)\n",
      "Requirement already satisfied: pyparsing>=2.3.1 in /home/roshan/anaconda3/envs/py311/lib/python3.11/site-packages (from matplotlib->-r requirements.txt (line 2)) (3.1.2)\n",
      "Requirement already satisfied: python-dateutil>=2.7 in /home/roshan/anaconda3/envs/py311/lib/python3.11/site-packages (from matplotlib->-r requirements.txt (line 2)) (2.9.0)\n",
      "Requirement already satisfied: Jinja2>=2.9 in /home/roshan/anaconda3/envs/py311/lib/python3.11/site-packages (from bokeh->-r requirements.txt (line 5)) (3.1.4)\n",
      "Requirement already satisfied: PyYAML>=3.10 in /home/roshan/anaconda3/envs/py311/lib/python3.11/site-packages (from bokeh->-r requirements.txt (line 5)) (6.0.1)\n",
      "Requirement already satisfied: tornado>=6.2 in /home/roshan/anaconda3/envs/py311/lib/python3.11/site-packages (from bokeh->-r requirements.txt (line 5)) (6.3.3)\n",
      "Requirement already satisfied: xyzservices>=2021.09.1 in /home/roshan/anaconda3/envs/py311/lib/python3.11/site-packages (from bokeh->-r requirements.txt (line 5)) (2024.4.0)\n",
      "Requirement already satisfied: filelock in /home/roshan/anaconda3/envs/py311/lib/python3.11/site-packages (from torch->-r requirements.txt (line 6)) (3.14.0)\n",
      "Requirement already satisfied: typing-extensions>=4.8.0 in /home/roshan/anaconda3/envs/py311/lib/python3.11/site-packages (from torch->-r requirements.txt (line 6)) (4.11.0)\n",
      "Requirement already satisfied: sympy in /home/roshan/anaconda3/envs/py311/lib/python3.11/site-packages (from torch->-r requirements.txt (line 6)) (1.12)\n",
      "Requirement already satisfied: networkx in /home/roshan/anaconda3/envs/py311/lib/python3.11/site-packages (from torch->-r requirements.txt (line 6)) (3.3)\n",
      "Requirement already satisfied: fsspec in /home/roshan/anaconda3/envs/py311/lib/python3.11/site-packages (from torch->-r requirements.txt (line 6)) (2024.5.0)\n",
      "Requirement already satisfied: nvidia-cuda-nvrtc-cu12==12.1.105 in /home/roshan/anaconda3/envs/py311/lib/python3.11/site-packages (from torch->-r requirements.txt (line 6)) (12.1.105)\n",
      "Requirement already satisfied: nvidia-cuda-runtime-cu12==12.1.105 in /home/roshan/anaconda3/envs/py311/lib/python3.11/site-packages (from torch->-r requirements.txt (line 6)) (12.1.105)\n",
      "Requirement already satisfied: nvidia-cuda-cupti-cu12==12.1.105 in /home/roshan/anaconda3/envs/py311/lib/python3.11/site-packages (from torch->-r requirements.txt (line 6)) (12.1.105)\n",
      "Requirement already satisfied: nvidia-cudnn-cu12==8.9.2.26 in /home/roshan/anaconda3/envs/py311/lib/python3.11/site-packages (from torch->-r requirements.txt (line 6)) (8.9.2.26)\n",
      "Requirement already satisfied: nvidia-cublas-cu12==12.1.3.1 in /home/roshan/anaconda3/envs/py311/lib/python3.11/site-packages (from torch->-r requirements.txt (line 6)) (12.1.3.1)\n",
      "Requirement already satisfied: nvidia-cufft-cu12==11.0.2.54 in /home/roshan/anaconda3/envs/py311/lib/python3.11/site-packages (from torch->-r requirements.txt (line 6)) (11.0.2.54)\n",
      "Requirement already satisfied: nvidia-curand-cu12==10.3.2.106 in /home/roshan/anaconda3/envs/py311/lib/python3.11/site-packages (from torch->-r requirements.txt (line 6)) (10.3.2.106)\n",
      "Requirement already satisfied: nvidia-cusolver-cu12==11.4.5.107 in /home/roshan/anaconda3/envs/py311/lib/python3.11/site-packages (from torch->-r requirements.txt (line 6)) (11.4.5.107)\n",
      "Requirement already satisfied: nvidia-cusparse-cu12==12.1.0.106 in /home/roshan/anaconda3/envs/py311/lib/python3.11/site-packages (from torch->-r requirements.txt (line 6)) (12.1.0.106)\n",
      "Requirement already satisfied: nvidia-nccl-cu12==2.20.5 in /home/roshan/anaconda3/envs/py311/lib/python3.11/site-packages (from torch->-r requirements.txt (line 6)) (2.20.5)\n",
      "Requirement already satisfied: nvidia-nvtx-cu12==12.1.105 in /home/roshan/anaconda3/envs/py311/lib/python3.11/site-packages (from torch->-r requirements.txt (line 6)) (12.1.105)\n",
      "Requirement already satisfied: triton==2.3.0 in /home/roshan/anaconda3/envs/py311/lib/python3.11/site-packages (from torch->-r requirements.txt (line 6)) (2.3.0)\n",
      "Requirement already satisfied: nvidia-nvjitlink-cu12 in /home/roshan/anaconda3/envs/py311/lib/python3.11/site-packages (from nvidia-cusolver-cu12==11.4.5.107->torch->-r requirements.txt (line 6)) (12.5.40)\n",
      "Requirement already satisfied: comm>=0.1.3 in /home/roshan/anaconda3/envs/py311/lib/python3.11/site-packages (from ipywidgets->-r requirements.txt (line 9)) (0.2.2)\n",
      "Requirement already satisfied: ipython>=6.1.0 in /home/roshan/anaconda3/envs/py311/lib/python3.11/site-packages (from ipywidgets->-r requirements.txt (line 9)) (8.24.0)\n",
      "Requirement already satisfied: traitlets>=4.3.1 in /home/roshan/anaconda3/envs/py311/lib/python3.11/site-packages (from ipywidgets->-r requirements.txt (line 9)) (5.14.3)\n",
      "Requirement already satisfied: widgetsnbextension~=4.0.10 in /home/roshan/anaconda3/envs/py311/lib/python3.11/site-packages (from ipywidgets->-r requirements.txt (line 9)) (4.0.10)\n",
      "Requirement already satisfied: jupyterlab-widgets~=3.0.10 in /home/roshan/anaconda3/envs/py311/lib/python3.11/site-packages (from ipywidgets->-r requirements.txt (line 9)) (3.0.10)\n",
      "Requirement already satisfied: iniconfig in /home/roshan/anaconda3/envs/py311/lib/python3.11/site-packages (from pytest->-r requirements.txt (line 11)) (2.0.0)\n",
      "Requirement already satisfied: pluggy<2.0,>=1.5 in /home/roshan/anaconda3/envs/py311/lib/python3.11/site-packages (from pytest->-r requirements.txt (line 11)) (1.5.0)\n",
      "Requirement already satisfied: pytz>=2020.1 in /home/roshan/anaconda3/envs/py311/lib/python3.11/site-packages (from pandas->-r requirements.txt (line 12)) (2024.1)\n",
      "Requirement already satisfied: tzdata>=2022.7 in /home/roshan/anaconda3/envs/py311/lib/python3.11/site-packages (from pandas->-r requirements.txt (line 12)) (2024.1)\n",
      "Requirement already satisfied: notebook in /home/roshan/anaconda3/envs/py311/lib/python3.11/site-packages (from jupyter->-r requirements.txt (line 14)) (7.2.0)\n",
      "Requirement already satisfied: qtconsole in /home/roshan/anaconda3/envs/py311/lib/python3.11/site-packages (from jupyter->-r requirements.txt (line 14)) (5.5.2)\n",
      "Requirement already satisfied: jupyter-console in /home/roshan/anaconda3/envs/py311/lib/python3.11/site-packages (from jupyter->-r requirements.txt (line 14)) (6.6.3)\n",
      "Requirement already satisfied: nbconvert in /home/roshan/anaconda3/envs/py311/lib/python3.11/site-packages (from jupyter->-r requirements.txt (line 14)) (7.16.4)\n",
      "Requirement already satisfied: debugpy>=1.6.5 in /home/roshan/anaconda3/envs/py311/lib/python3.11/site-packages (from ipykernel->-r requirements.txt (line 15)) (1.6.7)\n",
      "Requirement already satisfied: jupyter-client>=6.1.12 in /home/roshan/anaconda3/envs/py311/lib/python3.11/site-packages (from ipykernel->-r requirements.txt (line 15)) (8.6.2)\n",
      "Requirement already satisfied: jupyter-core!=5.0.*,>=4.12 in /home/roshan/anaconda3/envs/py311/lib/python3.11/site-packages (from ipykernel->-r requirements.txt (line 15)) (5.7.2)\n",
      "Requirement already satisfied: matplotlib-inline>=0.1 in /home/roshan/anaconda3/envs/py311/lib/python3.11/site-packages (from ipykernel->-r requirements.txt (line 15)) (0.1.7)\n",
      "Requirement already satisfied: nest-asyncio in /home/roshan/anaconda3/envs/py311/lib/python3.11/site-packages (from ipykernel->-r requirements.txt (line 15)) (1.6.0)\n",
      "Requirement already satisfied: psutil in /home/roshan/anaconda3/envs/py311/lib/python3.11/site-packages (from ipykernel->-r requirements.txt (line 15)) (5.9.0)\n",
      "Requirement already satisfied: pyzmq>=24 in /home/roshan/anaconda3/envs/py311/lib/python3.11/site-packages (from ipykernel->-r requirements.txt (line 15)) (25.1.2)\n",
      "Requirement already satisfied: decorator in /home/roshan/anaconda3/envs/py311/lib/python3.11/site-packages (from ipython>=6.1.0->ipywidgets->-r requirements.txt (line 9)) (5.1.1)\n",
      "Requirement already satisfied: jedi>=0.16 in /home/roshan/anaconda3/envs/py311/lib/python3.11/site-packages (from ipython>=6.1.0->ipywidgets->-r requirements.txt (line 9)) (0.19.1)\n",
      "Requirement already satisfied: prompt-toolkit<3.1.0,>=3.0.41 in /home/roshan/anaconda3/envs/py311/lib/python3.11/site-packages (from ipython>=6.1.0->ipywidgets->-r requirements.txt (line 9)) (3.0.42)\n",
      "Requirement already satisfied: pygments>=2.4.0 in /home/roshan/anaconda3/envs/py311/lib/python3.11/site-packages (from ipython>=6.1.0->ipywidgets->-r requirements.txt (line 9)) (2.18.0)\n",
      "Requirement already satisfied: stack-data in /home/roshan/anaconda3/envs/py311/lib/python3.11/site-packages (from ipython>=6.1.0->ipywidgets->-r requirements.txt (line 9)) (0.6.2)\n",
      "Requirement already satisfied: pexpect>4.3 in /home/roshan/anaconda3/envs/py311/lib/python3.11/site-packages (from ipython>=6.1.0->ipywidgets->-r requirements.txt (line 9)) (4.9.0)\n",
      "Requirement already satisfied: MarkupSafe>=2.0 in /home/roshan/anaconda3/envs/py311/lib/python3.11/site-packages (from Jinja2>=2.9->bokeh->-r requirements.txt (line 5)) (2.1.5)\n",
      "Requirement already satisfied: platformdirs>=2.5 in /home/roshan/anaconda3/envs/py311/lib/python3.11/site-packages (from jupyter-core!=5.0.*,>=4.12->ipykernel->-r requirements.txt (line 15)) (4.2.2)\n",
      "Requirement already satisfied: six>=1.5 in /home/roshan/anaconda3/envs/py311/lib/python3.11/site-packages (from python-dateutil>=2.7->matplotlib->-r requirements.txt (line 2)) (1.16.0)\n",
      "Requirement already satisfied: beautifulsoup4 in /home/roshan/anaconda3/envs/py311/lib/python3.11/site-packages (from nbconvert->jupyter->-r requirements.txt (line 14)) (4.12.3)\n",
      "Requirement already satisfied: bleach!=5.0.0 in /home/roshan/anaconda3/envs/py311/lib/python3.11/site-packages (from nbconvert->jupyter->-r requirements.txt (line 14)) (6.1.0)\n",
      "Requirement already satisfied: defusedxml in /home/roshan/anaconda3/envs/py311/lib/python3.11/site-packages (from nbconvert->jupyter->-r requirements.txt (line 14)) (0.7.1)\n",
      "Requirement already satisfied: jupyterlab-pygments in /home/roshan/anaconda3/envs/py311/lib/python3.11/site-packages (from nbconvert->jupyter->-r requirements.txt (line 14)) (0.3.0)\n",
      "Requirement already satisfied: mistune<4,>=2.0.3 in /home/roshan/anaconda3/envs/py311/lib/python3.11/site-packages (from nbconvert->jupyter->-r requirements.txt (line 14)) (3.0.2)\n",
      "Requirement already satisfied: nbclient>=0.5.0 in /home/roshan/anaconda3/envs/py311/lib/python3.11/site-packages (from nbconvert->jupyter->-r requirements.txt (line 14)) (0.10.0)\n",
      "Requirement already satisfied: nbformat>=5.7 in /home/roshan/anaconda3/envs/py311/lib/python3.11/site-packages (from nbconvert->jupyter->-r requirements.txt (line 14)) (5.10.4)\n",
      "Requirement already satisfied: pandocfilters>=1.4.1 in /home/roshan/anaconda3/envs/py311/lib/python3.11/site-packages (from nbconvert->jupyter->-r requirements.txt (line 14)) (1.5.1)\n",
      "Requirement already satisfied: tinycss2 in /home/roshan/anaconda3/envs/py311/lib/python3.11/site-packages (from nbconvert->jupyter->-r requirements.txt (line 14)) (1.3.0)\n",
      "Requirement already satisfied: jupyter-server<3,>=2.4.0 in /home/roshan/anaconda3/envs/py311/lib/python3.11/site-packages (from notebook->jupyter->-r requirements.txt (line 14)) (2.14.0)\n",
      "Requirement already satisfied: jupyterlab-server<3,>=2.27.1 in /home/roshan/anaconda3/envs/py311/lib/python3.11/site-packages (from notebook->jupyter->-r requirements.txt (line 14)) (2.27.2)\n",
      "Requirement already satisfied: jupyterlab<4.3,>=4.2.0 in /home/roshan/anaconda3/envs/py311/lib/python3.11/site-packages (from notebook->jupyter->-r requirements.txt (line 14)) (4.2.1)\n",
      "Requirement already satisfied: notebook-shim<0.3,>=0.2 in /home/roshan/anaconda3/envs/py311/lib/python3.11/site-packages (from notebook->jupyter->-r requirements.txt (line 14)) (0.2.4)\n",
      "Requirement already satisfied: qtpy>=2.4.0 in /home/roshan/anaconda3/envs/py311/lib/python3.11/site-packages (from qtconsole->jupyter->-r requirements.txt (line 14)) (2.4.1)\n",
      "Requirement already satisfied: mpmath>=0.19 in /home/roshan/anaconda3/envs/py311/lib/python3.11/site-packages (from sympy->torch->-r requirements.txt (line 6)) (1.3.0)\n",
      "Requirement already satisfied: webencodings in /home/roshan/anaconda3/envs/py311/lib/python3.11/site-packages (from bleach!=5.0.0->nbconvert->jupyter->-r requirements.txt (line 14)) (0.5.1)\n",
      "Requirement already satisfied: parso<0.9.0,>=0.8.3 in /home/roshan/anaconda3/envs/py311/lib/python3.11/site-packages (from jedi>=0.16->ipython>=6.1.0->ipywidgets->-r requirements.txt (line 9)) (0.8.4)\n",
      "Requirement already satisfied: anyio>=3.1.0 in /home/roshan/anaconda3/envs/py311/lib/python3.11/site-packages (from jupyter-server<3,>=2.4.0->notebook->jupyter->-r requirements.txt (line 14)) (4.3.0)\n",
      "Requirement already satisfied: argon2-cffi>=21.1 in /home/roshan/anaconda3/envs/py311/lib/python3.11/site-packages (from jupyter-server<3,>=2.4.0->notebook->jupyter->-r requirements.txt (line 14)) (23.1.0)\n",
      "Requirement already satisfied: jupyter-events>=0.9.0 in /home/roshan/anaconda3/envs/py311/lib/python3.11/site-packages (from jupyter-server<3,>=2.4.0->notebook->jupyter->-r requirements.txt (line 14)) (0.10.0)\n",
      "Requirement already satisfied: jupyter-server-terminals>=0.4.4 in /home/roshan/anaconda3/envs/py311/lib/python3.11/site-packages (from jupyter-server<3,>=2.4.0->notebook->jupyter->-r requirements.txt (line 14)) (0.5.3)\n",
      "Requirement already satisfied: overrides>=5.0 in /home/roshan/anaconda3/envs/py311/lib/python3.11/site-packages (from jupyter-server<3,>=2.4.0->notebook->jupyter->-r requirements.txt (line 14)) (7.7.0)\n",
      "Requirement already satisfied: prometheus-client>=0.9 in /home/roshan/anaconda3/envs/py311/lib/python3.11/site-packages (from jupyter-server<3,>=2.4.0->notebook->jupyter->-r requirements.txt (line 14)) (0.20.0)\n",
      "Requirement already satisfied: send2trash>=1.8.2 in /home/roshan/anaconda3/envs/py311/lib/python3.11/site-packages (from jupyter-server<3,>=2.4.0->notebook->jupyter->-r requirements.txt (line 14)) (1.8.3)\n",
      "Requirement already satisfied: terminado>=0.8.3 in /home/roshan/anaconda3/envs/py311/lib/python3.11/site-packages (from jupyter-server<3,>=2.4.0->notebook->jupyter->-r requirements.txt (line 14)) (0.18.1)\n",
      "Requirement already satisfied: websocket-client>=1.7 in /home/roshan/anaconda3/envs/py311/lib/python3.11/site-packages (from jupyter-server<3,>=2.4.0->notebook->jupyter->-r requirements.txt (line 14)) (1.8.0)\n",
      "Requirement already satisfied: async-lru>=1.0.0 in /home/roshan/anaconda3/envs/py311/lib/python3.11/site-packages (from jupyterlab<4.3,>=4.2.0->notebook->jupyter->-r requirements.txt (line 14)) (2.0.4)\n",
      "Requirement already satisfied: httpx>=0.25.0 in /home/roshan/anaconda3/envs/py311/lib/python3.11/site-packages (from jupyterlab<4.3,>=4.2.0->notebook->jupyter->-r requirements.txt (line 14)) (0.27.0)\n",
      "Requirement already satisfied: jupyter-lsp>=2.0.0 in /home/roshan/anaconda3/envs/py311/lib/python3.11/site-packages (from jupyterlab<4.3,>=4.2.0->notebook->jupyter->-r requirements.txt (line 14)) (2.2.5)\n",
      "Requirement already satisfied: babel>=2.10 in /home/roshan/anaconda3/envs/py311/lib/python3.11/site-packages (from jupyterlab-server<3,>=2.27.1->notebook->jupyter->-r requirements.txt (line 14)) (2.15.0)\n",
      "Requirement already satisfied: json5>=0.9.0 in /home/roshan/anaconda3/envs/py311/lib/python3.11/site-packages (from jupyterlab-server<3,>=2.27.1->notebook->jupyter->-r requirements.txt (line 14)) (0.9.25)\n",
      "Requirement already satisfied: jsonschema>=4.18.0 in /home/roshan/anaconda3/envs/py311/lib/python3.11/site-packages (from jupyterlab-server<3,>=2.27.1->notebook->jupyter->-r requirements.txt (line 14)) (4.22.0)\n",
      "Requirement already satisfied: requests>=2.31 in /home/roshan/anaconda3/envs/py311/lib/python3.11/site-packages (from jupyterlab-server<3,>=2.27.1->notebook->jupyter->-r requirements.txt (line 14)) (2.32.2)\n",
      "Requirement already satisfied: fastjsonschema>=2.15 in /home/roshan/anaconda3/envs/py311/lib/python3.11/site-packages (from nbformat>=5.7->nbconvert->jupyter->-r requirements.txt (line 14)) (2.19.1)\n",
      "Requirement already satisfied: ptyprocess>=0.5 in /home/roshan/anaconda3/envs/py311/lib/python3.11/site-packages (from pexpect>4.3->ipython>=6.1.0->ipywidgets->-r requirements.txt (line 9)) (0.7.0)\n",
      "Requirement already satisfied: wcwidth in /home/roshan/anaconda3/envs/py311/lib/python3.11/site-packages (from prompt-toolkit<3.1.0,>=3.0.41->ipython>=6.1.0->ipywidgets->-r requirements.txt (line 9)) (0.2.13)\n",
      "Requirement already satisfied: soupsieve>1.2 in /home/roshan/anaconda3/envs/py311/lib/python3.11/site-packages (from beautifulsoup4->nbconvert->jupyter->-r requirements.txt (line 14)) (2.5)\n",
      "Requirement already satisfied: executing>=1.2.0 in /home/roshan/anaconda3/envs/py311/lib/python3.11/site-packages (from stack-data->ipython>=6.1.0->ipywidgets->-r requirements.txt (line 9)) (2.0.1)\n",
      "Requirement already satisfied: asttokens>=2.1.0 in /home/roshan/anaconda3/envs/py311/lib/python3.11/site-packages (from stack-data->ipython>=6.1.0->ipywidgets->-r requirements.txt (line 9)) (2.4.1)\n",
      "Requirement already satisfied: pure-eval in /home/roshan/anaconda3/envs/py311/lib/python3.11/site-packages (from stack-data->ipython>=6.1.0->ipywidgets->-r requirements.txt (line 9)) (0.2.2)\n",
      "Requirement already satisfied: idna>=2.8 in /home/roshan/anaconda3/envs/py311/lib/python3.11/site-packages (from anyio>=3.1.0->jupyter-server<3,>=2.4.0->notebook->jupyter->-r requirements.txt (line 14)) (3.7)\n",
      "Requirement already satisfied: sniffio>=1.1 in /home/roshan/anaconda3/envs/py311/lib/python3.11/site-packages (from anyio>=3.1.0->jupyter-server<3,>=2.4.0->notebook->jupyter->-r requirements.txt (line 14)) (1.3.1)\n",
      "Requirement already satisfied: argon2-cffi-bindings in /home/roshan/anaconda3/envs/py311/lib/python3.11/site-packages (from argon2-cffi>=21.1->jupyter-server<3,>=2.4.0->notebook->jupyter->-r requirements.txt (line 14)) (21.2.0)\n",
      "Requirement already satisfied: certifi in /home/roshan/anaconda3/envs/py311/lib/python3.11/site-packages (from httpx>=0.25.0->jupyterlab<4.3,>=4.2.0->notebook->jupyter->-r requirements.txt (line 14)) (2024.2.2)\n",
      "Requirement already satisfied: httpcore==1.* in /home/roshan/anaconda3/envs/py311/lib/python3.11/site-packages (from httpx>=0.25.0->jupyterlab<4.3,>=4.2.0->notebook->jupyter->-r requirements.txt (line 14)) (1.0.5)\n",
      "Requirement already satisfied: h11<0.15,>=0.13 in /home/roshan/anaconda3/envs/py311/lib/python3.11/site-packages (from httpcore==1.*->httpx>=0.25.0->jupyterlab<4.3,>=4.2.0->notebook->jupyter->-r requirements.txt (line 14)) (0.14.0)\n",
      "Requirement already satisfied: attrs>=22.2.0 in /home/roshan/anaconda3/envs/py311/lib/python3.11/site-packages (from jsonschema>=4.18.0->jupyterlab-server<3,>=2.27.1->notebook->jupyter->-r requirements.txt (line 14)) (23.2.0)\n",
      "Requirement already satisfied: jsonschema-specifications>=2023.03.6 in /home/roshan/anaconda3/envs/py311/lib/python3.11/site-packages (from jsonschema>=4.18.0->jupyterlab-server<3,>=2.27.1->notebook->jupyter->-r requirements.txt (line 14)) (2023.12.1)\n",
      "Requirement already satisfied: referencing>=0.28.4 in /home/roshan/anaconda3/envs/py311/lib/python3.11/site-packages (from jsonschema>=4.18.0->jupyterlab-server<3,>=2.27.1->notebook->jupyter->-r requirements.txt (line 14)) (0.35.1)\n",
      "Requirement already satisfied: rpds-py>=0.7.1 in /home/roshan/anaconda3/envs/py311/lib/python3.11/site-packages (from jsonschema>=4.18.0->jupyterlab-server<3,>=2.27.1->notebook->jupyter->-r requirements.txt (line 14)) (0.18.1)\n",
      "Requirement already satisfied: python-json-logger>=2.0.4 in /home/roshan/anaconda3/envs/py311/lib/python3.11/site-packages (from jupyter-events>=0.9.0->jupyter-server<3,>=2.4.0->notebook->jupyter->-r requirements.txt (line 14)) (2.0.7)\n",
      "Requirement already satisfied: rfc3339-validator in /home/roshan/anaconda3/envs/py311/lib/python3.11/site-packages (from jupyter-events>=0.9.0->jupyter-server<3,>=2.4.0->notebook->jupyter->-r requirements.txt (line 14)) (0.1.4)\n",
      "Requirement already satisfied: rfc3986-validator>=0.1.1 in /home/roshan/anaconda3/envs/py311/lib/python3.11/site-packages (from jupyter-events>=0.9.0->jupyter-server<3,>=2.4.0->notebook->jupyter->-r requirements.txt (line 14)) (0.1.1)\n",
      "Requirement already satisfied: charset-normalizer<4,>=2 in /home/roshan/anaconda3/envs/py311/lib/python3.11/site-packages (from requests>=2.31->jupyterlab-server<3,>=2.27.1->notebook->jupyter->-r requirements.txt (line 14)) (3.3.2)\n",
      "Requirement already satisfied: urllib3<3,>=1.21.1 in /home/roshan/anaconda3/envs/py311/lib/python3.11/site-packages (from requests>=2.31->jupyterlab-server<3,>=2.27.1->notebook->jupyter->-r requirements.txt (line 14)) (2.2.1)\n",
      "Requirement already satisfied: fqdn in /home/roshan/anaconda3/envs/py311/lib/python3.11/site-packages (from jsonschema[format-nongpl]>=4.18.0->jupyter-events>=0.9.0->jupyter-server<3,>=2.4.0->notebook->jupyter->-r requirements.txt (line 14)) (1.5.1)\n",
      "Requirement already satisfied: isoduration in /home/roshan/anaconda3/envs/py311/lib/python3.11/site-packages (from jsonschema[format-nongpl]>=4.18.0->jupyter-events>=0.9.0->jupyter-server<3,>=2.4.0->notebook->jupyter->-r requirements.txt (line 14)) (20.11.0)\n",
      "Requirement already satisfied: jsonpointer>1.13 in /home/roshan/anaconda3/envs/py311/lib/python3.11/site-packages (from jsonschema[format-nongpl]>=4.18.0->jupyter-events>=0.9.0->jupyter-server<3,>=2.4.0->notebook->jupyter->-r requirements.txt (line 14)) (2.4)\n",
      "Requirement already satisfied: uri-template in /home/roshan/anaconda3/envs/py311/lib/python3.11/site-packages (from jsonschema[format-nongpl]>=4.18.0->jupyter-events>=0.9.0->jupyter-server<3,>=2.4.0->notebook->jupyter->-r requirements.txt (line 14)) (1.3.0)\n",
      "Requirement already satisfied: webcolors>=1.11 in /home/roshan/anaconda3/envs/py311/lib/python3.11/site-packages (from jsonschema[format-nongpl]>=4.18.0->jupyter-events>=0.9.0->jupyter-server<3,>=2.4.0->notebook->jupyter->-r requirements.txt (line 14)) (1.13)\n",
      "Requirement already satisfied: cffi>=1.0.1 in /home/roshan/anaconda3/envs/py311/lib/python3.11/site-packages (from argon2-cffi-bindings->argon2-cffi>=21.1->jupyter-server<3,>=2.4.0->notebook->jupyter->-r requirements.txt (line 14)) (1.16.0)\n",
      "Requirement already satisfied: pycparser in /home/roshan/anaconda3/envs/py311/lib/python3.11/site-packages (from cffi>=1.0.1->argon2-cffi-bindings->argon2-cffi>=21.1->jupyter-server<3,>=2.4.0->notebook->jupyter->-r requirements.txt (line 14)) (2.22)\n",
      "Requirement already satisfied: arrow>=0.15.0 in /home/roshan/anaconda3/envs/py311/lib/python3.11/site-packages (from isoduration->jsonschema[format-nongpl]>=4.18.0->jupyter-events>=0.9.0->jupyter-server<3,>=2.4.0->notebook->jupyter->-r requirements.txt (line 14)) (1.3.0)\n",
      "Requirement already satisfied: types-python-dateutil>=2.8.10 in /home/roshan/anaconda3/envs/py311/lib/python3.11/site-packages (from arrow>=0.15.0->isoduration->jsonschema[format-nongpl]>=4.18.0->jupyter-events>=0.9.0->jupyter-server<3,>=2.4.0->notebook->jupyter->-r requirements.txt (line 14)) (2.9.0.20240316)\n"
     ]
    }
   ],
   "source": [
    "# Install requirements\n",
    "!python -m pip install -r requirements.txt"
   ]
  },
  {
   "cell_type": "markdown",
   "metadata": {},
   "source": [
    "## Imports"
   ]
  },
  {
   "cell_type": "code",
   "execution_count": null,
   "metadata": {},
   "outputs": [],
   "source": [
    "## This cell contains the essential imports you will need – DO NOT CHANGE THE CONTENTS! ##\n",
    "import torch\n",
    "import torch.nn as nn\n",
    "import torch.nn.functional as F\n",
    "import torch.optim as optim\n",
    "import torchvision\n",
    "import torchvision.transforms as transforms\n",
    "import matplotlib.pyplot as plt\n",
    "import numpy as np"
   ]
  },
  {
   "cell_type": "markdown",
   "metadata": {},
   "source": [
    "## Load the Dataset\n",
    "\n",
    "Specify your transforms as a list if you intend to .\n",
    "The transforms module is already loaded as `transforms`.\n",
    "\n",
    "MNIST is fortunately included in the torchvision module.\n",
    "Then, you can create your dataset using the `MNIST` object from `torchvision.datasets` ([the documentation is available here](https://pytorch.org/vision/stable/datasets.html#mnist)).\n",
    "Make sure to specify `download=True`! \n",
    "\n",
    "Once your dataset is created, you'll also need to define a `DataLoader` from the `torch.utils.data` module for both the train and the test set."
   ]
  },
  {
   "cell_type": "code",
   "execution_count": null,
   "metadata": {},
   "outputs": [],
   "source": [
    "# Define transforms\n",
    "## YOUR CODE HERE ##\n",
    "\n",
    "# Create training set and define training dataloader\n",
    "## YOUR CODE HERE ##\n",
    "\n",
    "# Create test set and define test dataloader\n",
    "## YOUR CODE HERE ##"
   ]
  },
  {
   "cell_type": "markdown",
   "metadata": {},
   "source": [
    "## Justify your preprocessing\n",
    "\n",
    "In your own words, why did you choose the transforms you chose? If you didn't use any preprocessing steps, why not?"
   ]
  },
  {
   "cell_type": "markdown",
   "metadata": {},
   "source": [
    "**DOUBLE CLICK THIS CELL TO MODIFY**"
   ]
  },
  {
   "cell_type": "markdown",
   "metadata": {},
   "source": [
    "## Explore the Dataset\n",
    "Using matplotlib, numpy, and torch, explore the dimensions of your data.\n",
    "\n",
    "You can view images using the `show5` function defined below – it takes a data loader as an argument.\n",
    "Remember that normalized images will look really weird to you! You may want to try changing your transforms to view images.\n",
    "Typically using no transforms other than `toTensor()` works well for viewing – but not as well for training your network.\n",
    "If `show5` doesn't work, go back and check your code for creating your data loaders and your training/test sets."
   ]
  },
  {
   "cell_type": "code",
   "execution_count": null,
   "metadata": {},
   "outputs": [],
   "source": [
    "## This cell contains a function for showing 5 images from a dataloader – DO NOT CHANGE THE CONTENTS! ##\n",
    "def show5(img_loader):\n",
    "    dataiter = iter(img_loader)\n",
    "    \n",
    "    batch = next(dataiter)\n",
    "    labels = batch[1][0:5]\n",
    "    images = batch[0][0:5]\n",
    "    for i in range(5):\n",
    "        print(int(labels[i].detach()))\n",
    "    \n",
    "        image = images[i].numpy()\n",
    "        plt.imshow(image.T.squeeze().T)\n",
    "        plt.show()"
   ]
  },
  {
   "cell_type": "code",
   "execution_count": null,
   "metadata": {},
   "outputs": [],
   "source": [
    "# Explore data\n",
    "## YOUR CODE HERE ##"
   ]
  },
  {
   "cell_type": "markdown",
   "metadata": {},
   "source": [
    "## Build your Neural Network\n",
    "Using the layers in `torch.nn` (which has been imported as `nn`) and the `torch.nn.functional` module (imported as `F`), construct a neural network based on the parameters of the dataset.\n",
    "Use any architecture you like. \n",
    "\n",
    "*Note*: If you did not flatten your tensors in your transforms or as part of your preprocessing and you are using only `Linear` layers, make sure to use the `Flatten` layer in your network!"
   ]
  },
  {
   "cell_type": "code",
   "execution_count": null,
   "metadata": {},
   "outputs": [],
   "source": [
    "## YOUR CODE HERE ##"
   ]
  },
  {
   "cell_type": "markdown",
   "metadata": {},
   "source": [
    "Specify a loss function and an optimizer, and instantiate the model.\n",
    "\n",
    "If you use a less common loss function, please note why you chose that loss function in a comment."
   ]
  },
  {
   "cell_type": "code",
   "execution_count": null,
   "metadata": {},
   "outputs": [],
   "source": [
    "## YOUR CODE HERE ##"
   ]
  },
  {
   "cell_type": "markdown",
   "metadata": {},
   "source": [
    "## Running your Neural Network\n",
    "Use whatever method you like to train your neural network, and ensure you record the average loss at each epoch. \n",
    "Don't forget to use `torch.device()` and the `.to()` method for both your model and your data if you are using GPU!\n",
    "\n",
    "If you want to print your loss **during** each epoch, you can use the `enumerate` function and print the loss after a set number of batches. 250 batches works well for most people!"
   ]
  },
  {
   "cell_type": "code",
   "execution_count": null,
   "metadata": {},
   "outputs": [],
   "source": [
    "## YOUR CODE HERE ##"
   ]
  },
  {
   "cell_type": "markdown",
   "metadata": {},
   "source": [
    "Plot the training loss (and validation loss/accuracy, if recorded)."
   ]
  },
  {
   "cell_type": "code",
   "execution_count": null,
   "metadata": {},
   "outputs": [],
   "source": [
    "## YOUR CODE HERE ##"
   ]
  },
  {
   "cell_type": "markdown",
   "metadata": {},
   "source": [
    "## Testing your model\n",
    "Using the previously created `DataLoader` for the test set, compute the percentage of correct predictions using the highest probability prediction. \n",
    "\n",
    "If your accuracy is over 90%, great work, but see if you can push a bit further! \n",
    "If your accuracy is under 90%, you'll need to make improvements.\n",
    "Go back and check your model architecture, loss function, and optimizer to make sure they're appropriate for an image classification task."
   ]
  },
  {
   "cell_type": "code",
   "execution_count": null,
   "metadata": {},
   "outputs": [],
   "source": [
    "## YOUR CODE HERE ##"
   ]
  },
  {
   "cell_type": "markdown",
   "metadata": {},
   "source": [
    "## Improving your model\n",
    "\n",
    "Once your model is done training, try tweaking your hyperparameters and training again below to improve your accuracy on the test set!"
   ]
  },
  {
   "cell_type": "code",
   "execution_count": null,
   "metadata": {},
   "outputs": [],
   "source": [
    "## YOUR CODE HERE ##"
   ]
  },
  {
   "cell_type": "markdown",
   "metadata": {},
   "source": [
    "## Saving your model\n",
    "Using `torch.save`, save your model for future loading."
   ]
  },
  {
   "cell_type": "code",
   "execution_count": null,
   "metadata": {},
   "outputs": [],
   "source": [
    "## YOUR CODE HERE ##"
   ]
  }
 ],
 "metadata": {
  "kernelspec": {
   "display_name": "Python 3",
   "language": "python",
   "name": "python3"
  },
  "language_info": {
   "codemirror_mode": {
    "name": "ipython",
    "version": 3
   },
   "file_extension": ".py",
   "mimetype": "text/x-python",
   "name": "python",
   "nbconvert_exporter": "python",
   "pygments_lexer": "ipython3",
   "version": "3.11.9"
  }
 },
 "nbformat": 4,
 "nbformat_minor": 4
}
